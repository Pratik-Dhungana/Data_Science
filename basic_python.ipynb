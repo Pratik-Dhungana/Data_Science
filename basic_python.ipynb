{
 "cells": [
  {
   "cell_type": "markdown",
   "metadata": {},
   "source": [
    "## if else SECTION"
   ]
  },
  {
   "cell_type": "code",
   "execution_count": 5,
   "metadata": {},
   "outputs": [
    {
     "name": "stdout",
     "output_type": "stream",
     "text": [
      "Your age is 50\n",
      "Not Eligible for citizenship\n"
     ]
    }
   ],
   "source": [
    "#Age above 60 gets right for citizenship\n",
    "\n",
    "age= int(input(\"Enter age\"))\n",
    "print(f\"Your age is {age}\")\n",
    "if age >= 60:\n",
    "    print(\"Eligible for citizenship\")\n",
    "else:\n",
    "    print(\"Not Eligible for citizenship\")"
   ]
  },
  {
   "cell_type": "markdown",
   "metadata": {},
   "source": [
    "# if elif statement\n"
   ]
  },
  {
   "cell_type": "code",
   "execution_count": 8,
   "metadata": {},
   "outputs": [
    {
     "name": "stdout",
     "output_type": "stream",
     "text": [
      "1000 doesnot occurs in range\n"
     ]
    }
   ],
   "source": [
    "#to check the range less than 0 , 0 to 50, 50 to 100.\n",
    "\n",
    "num= int(input(\"Enter you intger\"))\n",
    "\n",
    "if num<0:\n",
    "    print(f\"{num} lies in the range of less than 0 \")\n",
    "elif num>=0 and num<=50:\n",
    "    print(f\"{num} lies between 0 to 50\")\n",
    "elif num>50 and num<=100:\n",
    "    print(f\"{num} lies between 51 to 100\")\n",
    "else:\n",
    "    print(f\"{num} doesnot occurs in range\")\n"
   ]
  },
  {
   "cell_type": "markdown",
   "metadata": {},
   "source": [
    "# LOOP\n",
    "\n",
    "## for LOOP"
   ]
  },
  {
   "cell_type": "code",
   "execution_count": null,
   "metadata": {},
   "outputs": [],
   "source": [
    "#range(start, end, step)\n",
    "#If nothings specified on first, the loop starts from 0 \n",
    "\n",
    "for i in range(10):\n",
    "    print(i)\n",
    "\n",
    "\n",
    "\n",
    "\n",
    "\n"
   ]
  },
  {
   "cell_type": "code",
   "execution_count": null,
   "metadata": {},
   "outputs": [],
   "source": [
    "#For specification of starting point\n",
    "# if we take range from 1 to 10 10 wont be print and the loop will run 9 times only i.e. 1 to 9\n",
    "print(\"Starting point specified\")\n",
    "for i in range(1, 10):\n",
    "    print(i)"
   ]
  },
  {
   "cell_type": "code",
   "execution_count": null,
   "metadata": {},
   "outputs": [],
   "source": [
    "#for total 10 times loop\n",
    "print(\"Total 10 loops\")\n",
    "for i in range (1, 10+1):\n",
    "    print(i)"
   ]
  },
  {
   "cell_type": "code",
   "execution_count": 4,
   "metadata": {},
   "outputs": [
    {
     "name": "stdout",
     "output_type": "stream",
     "text": [
      "1\n",
      "3\n",
      "5\n",
      "7\n",
      "9\n"
     ]
    }
   ],
   "source": [
    "#to determine step i.e. i++ or increment kasari garne \n",
    "\n",
    "for i in range(1, 10, 2):\n",
    "    print(i)"
   ]
  },
  {
   "cell_type": "code",
   "execution_count": 6,
   "metadata": {},
   "outputs": [
    {
     "name": "stdout",
     "output_type": "stream",
     "text": [
      "Sum of first 5 integer is 15\n"
     ]
    }
   ],
   "source": [
    "#Sum of first n integer\n",
    "\n",
    "num= int(input(\"Enter no of integers\"))\n",
    "sum=0\n",
    "\n",
    "for i in range(1, num+1):\n",
    "    sum+=i\n",
    "\n",
    "print(f\"Sum of first {num} integer is {sum}\")"
   ]
  },
  {
   "cell_type": "code",
   "execution_count": 18,
   "metadata": {},
   "outputs": [
    {
     "name": "stdout",
     "output_type": "stream",
     "text": [
      "5\n",
      "4\n",
      "3\n",
      "2\n"
     ]
    }
   ],
   "source": [
    "#descending\n",
    "\n",
    "for i in range(5, 1, -1):\n",
    "    print(i)"
   ]
  },
  {
   "cell_type": "markdown",
   "metadata": {},
   "source": [
    "## break and continue in loop \n"
   ]
  },
  {
   "cell_type": "code",
   "execution_count": 11,
   "metadata": {},
   "outputs": [
    {
     "name": "stdout",
     "output_type": "stream",
     "text": [
      "0\n",
      "1\n",
      "2\n",
      "3\n",
      "4\n",
      "5\n"
     ]
    }
   ],
   "source": [
    "\n",
    "#break\n",
    "\n",
    "for i in range(10):\n",
    "    if i==6:\n",
    "        break;\n",
    "   \n",
    "    print(i)\n",
    " "
   ]
  },
  {
   "cell_type": "code",
   "execution_count": 12,
   "metadata": {},
   "outputs": [
    {
     "name": "stdout",
     "output_type": "stream",
     "text": [
      "0\n",
      "1\n",
      "2\n",
      "3\n",
      "4\n",
      "5\n",
      "7\n",
      "8\n",
      "9\n"
     ]
    }
   ],
   "source": [
    "#continue\n",
    "\n",
    "for i in range(10):\n",
    "    if i==6:\n",
    "        continue;\n",
    "   \n",
    "    print(i)\n",
    " "
   ]
  },
  {
   "cell_type": "markdown",
   "metadata": {},
   "source": [
    "## while loop\n"
   ]
  },
  {
   "cell_type": "code",
   "execution_count": 23,
   "metadata": {},
   "outputs": [
    {
     "name": "stdout",
     "output_type": "stream",
     "text": [
      "15\n"
     ]
    }
   ],
   "source": [
    "#first n natural number sum\n",
    "\n",
    "num= int(input(\"Enter n natural number for sum\"))\n",
    "\n",
    "i=1 \n",
    "sum=0\n",
    "while(i<=num):\n",
    "    sum+=i\n",
    "    i+=1\n",
    "print(sum)\n"
   ]
  },
  {
   "cell_type": "markdown",
   "metadata": {},
   "source": [
    "## List"
   ]
  },
  {
   "cell_type": "code",
   "execution_count": 32,
   "metadata": {},
   "outputs": [
    {
     "name": "stdout",
     "output_type": "stream",
     "text": [
      "['apple', 'banana', '29', True]\n",
      "<class 'list'>\n",
      "True\n",
      "4\n",
      "apple\n",
      "banana\n",
      "29\n",
      "True\n",
      "position 0, and value apple\n",
      "position 1, and value banana\n",
      "position 2, and value 29\n",
      "position 3, and value True\n",
      "value= (0, 'apple')\n",
      "value= (1, 'banana')\n",
      "value= (2, '29')\n",
      "value= (3, True)\n"
     ]
    }
   ],
   "source": [
    "#[]\n",
    "#accepts every kind of data type\n",
    "\n",
    "name= ['apple', 'banana', '29', True]\n",
    "\n",
    "print(name)\n",
    "print(type(name))\n",
    "print(name[3])\n",
    "n= len(name)\n",
    "print(n)\n",
    "\n",
    "\n",
    "for i in name:\n",
    "    print(i)\n",
    "for index, value in enumerate(name):  #enum always passes two values position and value\n",
    "    print(f\"position {index}, and value {value}\")\n",
    "\n",
    "for value in enumerate(name):\n",
    "    print(f\"value= {value}\")\n",
    "\n"
   ]
  },
  {
   "cell_type": "markdown",
   "metadata": {},
   "source": [
    "# Function\n"
   ]
  },
  {
   "cell_type": "code",
   "execution_count": 10,
   "metadata": {},
   "outputs": [
    {
     "name": "stdout",
     "output_type": "stream",
     "text": [
      "Not prime\n"
     ]
    }
   ],
   "source": [
    "#Function to check prime no\n",
    "\n",
    "def prime_no(a):\n",
    "\n",
    "    a= int(input(\"Enter a number\"))\n",
    "     \n",
    "    count =0\n",
    "    for i in range (1, a+1):\n",
    "        \n",
    "        if a%i == 0:\n",
    "            count+=1\n",
    "\n",
    "\n",
    "\n",
    "    if count == 2:\n",
    "        print(f\"{a} is a prime number\")\n",
    "    else:\n",
    "        print(\"Not prime\")\n",
    "\n",
    "prime_no(7)\n",
    "\n",
    "         \n",
    "\n",
    "\n",
    "    "
   ]
  },
  {
   "cell_type": "code",
   "execution_count": null,
   "metadata": {},
   "outputs": [],
   "source": []
  }
 ],
 "metadata": {
  "kernelspec": {
   "display_name": "Python 3",
   "language": "python",
   "name": "python3"
  },
  "language_info": {
   "codemirror_mode": {
    "name": "ipython",
    "version": 3
   },
   "file_extension": ".py",
   "mimetype": "text/x-python",
   "name": "python",
   "nbconvert_exporter": "python",
   "pygments_lexer": "ipython3",
   "version": "3.12.8"
  }
 },
 "nbformat": 4,
 "nbformat_minor": 2
}

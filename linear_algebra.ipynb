{
 "cells": [
  {
   "cell_type": "markdown",
   "metadata": {},
   "source": [
    "# 1. Matrix Operations"
   ]
  },
  {
   "cell_type": "code",
   "execution_count": 3,
   "metadata": {},
   "outputs": [
    {
     "name": "stdout",
     "output_type": "stream",
     "text": [
      "A = [[ 2 -1]\n",
      " [ 0  3]]\n",
      "B =  [[ 1  2]\n",
      " [-3  4]]\n"
     ]
    }
   ],
   "source": [
    "import numpy as np\n",
    "# Defining matrix A and B\n",
    "A = np.array([[2, -1], [0, 3]])\n",
    "print(\"A =\", A)\n",
    "B = np.array([[1, 2], [-3, 4]])\n",
    "print(\"B = \", B)\n",
    "\n"
   ]
  },
  {
   "cell_type": "markdown",
   "metadata": {},
   "source": [
    "## Matrix operation"
   ]
  },
  {
   "cell_type": "code",
   "execution_count": 5,
   "metadata": {},
   "outputs": [
    {
     "name": "stdout",
     "output_type": "stream",
     "text": [
      "A + B = [[ 3  1]\n",
      " [-3  7]]\n",
      "2A = [[ 4 -2]\n",
      " [ 0  6]]\n",
      "3A-2B = [[ 4 -7]\n",
      " [ 6  1]]\n"
     ]
    }
   ],
   "source": [
    "# Addition\n",
    "C = A + B\n",
    "\n",
    "# Multipication\n",
    "D = 2*A\n",
    "\n",
    "# Subtraction\n",
    "E = 3*A - 2*B\n",
    "\n",
    "\n",
    "#Display of the result\n",
    "\n",
    "print(\"A + B =\", C)\n",
    "print(\"2A =\",D)\n",
    "print(\"3A-2B =\",E)\n",
    "\n"
   ]
  },
  {
   "cell_type": "markdown",
   "metadata": {},
   "source": [
    "# 2. Determinants and Inverses"
   ]
  },
  {
   "cell_type": "code",
   "execution_count": 7,
   "metadata": {},
   "outputs": [
    {
     "name": "stdout",
     "output_type": "stream",
     "text": [
      "Determinant of A = 6.0\n",
      "The matrix is invertible\n",
      "The inverse of A is  [[0.5        0.16666667]\n",
      " [0.         0.33333333]]\n"
     ]
    }
   ],
   "source": [
    "import numpy.linalg as LA  #for determinant and inverse\n",
    "\n",
    "#Determinant of A\n",
    "\n",
    "det = LA.det(A)\n",
    "print(\"Determinant of A =\", det)\n",
    "\n",
    "if (det!=0) :\n",
    "    print(\"The matrix is invertible\")\n",
    "    inv = LA.inv(A)\n",
    "    print(\"The inverse of A is \", inv)\n",
    "\n",
    "else: \n",
    "    print(\"The matrix is invertible\")"
   ]
  },
  {
   "cell_type": "markdown",
   "metadata": {},
   "source": [
    "# 3. Eigen Values and Vectors"
   ]
  },
  {
   "cell_type": "code",
   "execution_count": 8,
   "metadata": {},
   "outputs": [
    {
     "name": "stdout",
     "output_type": "stream",
     "text": [
      "Matrix A: [[ 2 -1]\n",
      " [ 0  3]]\n",
      "\n",
      "Eigenvalue (first):\n",
      "2.0\n",
      "\n",
      "Corresponding Eigenvector:\n",
      "[1. 0.]\n"
     ]
    }
   ],
   "source": [
    "print(\"Matrix A:\", A)\n",
    "\n",
    "\n",
    "# Compute eigenvalues and eigenvectors\n",
    "eigenvalues, eigenvectors = np.linalg.eig(A)\n",
    "\n",
    "print(\"\\nEigenvalue (first):\")\n",
    "print(eigenvalues[0])\n",
    "print(\"\\nCorresponding Eigenvector:\")\n",
    "print(eigenvectors[:, 0])"
   ]
  },
  {
   "cell_type": "markdown",
   "metadata": {},
   "source": [
    "# 4. Estimate the price"
   ]
  },
  {
   "cell_type": "code",
   "execution_count": null,
   "metadata": {},
   "outputs": [
    {
     "ename": "LinAlgError",
     "evalue": "Singular matrix",
     "output_type": "error",
     "traceback": [
      "\u001b[1;31m---------------------------------------------------------------------------\u001b[0m",
      "\u001b[1;31mLinAlgError\u001b[0m                               Traceback (most recent call last)",
      "Cell \u001b[1;32mIn[13], line 13\u001b[0m\n\u001b[0;32m     11\u001b[0m \u001b[38;5;66;03m# Compute β using the normal equation: β = (X.T * X)^(-1) * X.T * y\u001b[39;00m\n\u001b[0;32m     12\u001b[0m X_transpose \u001b[38;5;241m=\u001b[39m X\u001b[38;5;241m.\u001b[39mT\n\u001b[1;32m---> 13\u001b[0m beta \u001b[38;5;241m=\u001b[39m \u001b[43mnp\u001b[49m\u001b[38;5;241;43m.\u001b[39;49m\u001b[43mlinalg\u001b[49m\u001b[38;5;241;43m.\u001b[39;49m\u001b[43minv\u001b[49m\u001b[43m(\u001b[49m\u001b[43mX_transpose\u001b[49m\u001b[43m \u001b[49m\u001b[38;5;241;43m@\u001b[39;49m\u001b[43m \u001b[49m\u001b[43mX\u001b[49m\u001b[43m)\u001b[49m \u001b[38;5;241m@\u001b[39m X_transpose \u001b[38;5;241m@\u001b[39m y\n\u001b[0;32m     15\u001b[0m \u001b[38;5;66;03m# Define features of car 3\u001b[39;00m\n\u001b[0;32m     16\u001b[0m car3_features \u001b[38;5;241m=\u001b[39m np\u001b[38;5;241m.\u001b[39marray([\u001b[38;5;241m1\u001b[39m, \u001b[38;5;241m8\u001b[39m, \u001b[38;5;241m3.0\u001b[39m, \u001b[38;5;241m200\u001b[39m])  \u001b[38;5;66;03m# Include the bias term\u001b[39;00m\n",
      "File \u001b[1;32m~\\AppData\\Local\\Packages\\PythonSoftwareFoundation.Python.3.12_qbz5n2kfra8p0\\LocalCache\\local-packages\\Python312\\site-packages\\numpy\\linalg\\_linalg.py:609\u001b[0m, in \u001b[0;36minv\u001b[1;34m(a)\u001b[0m\n\u001b[0;32m    606\u001b[0m signature \u001b[38;5;241m=\u001b[39m \u001b[38;5;124m'\u001b[39m\u001b[38;5;124mD->D\u001b[39m\u001b[38;5;124m'\u001b[39m \u001b[38;5;28;01mif\u001b[39;00m isComplexType(t) \u001b[38;5;28;01melse\u001b[39;00m \u001b[38;5;124m'\u001b[39m\u001b[38;5;124md->d\u001b[39m\u001b[38;5;124m'\u001b[39m\n\u001b[0;32m    607\u001b[0m \u001b[38;5;28;01mwith\u001b[39;00m errstate(call\u001b[38;5;241m=\u001b[39m_raise_linalgerror_singular, invalid\u001b[38;5;241m=\u001b[39m\u001b[38;5;124m'\u001b[39m\u001b[38;5;124mcall\u001b[39m\u001b[38;5;124m'\u001b[39m,\n\u001b[0;32m    608\u001b[0m               over\u001b[38;5;241m=\u001b[39m\u001b[38;5;124m'\u001b[39m\u001b[38;5;124mignore\u001b[39m\u001b[38;5;124m'\u001b[39m, divide\u001b[38;5;241m=\u001b[39m\u001b[38;5;124m'\u001b[39m\u001b[38;5;124mignore\u001b[39m\u001b[38;5;124m'\u001b[39m, under\u001b[38;5;241m=\u001b[39m\u001b[38;5;124m'\u001b[39m\u001b[38;5;124mignore\u001b[39m\u001b[38;5;124m'\u001b[39m):\n\u001b[1;32m--> 609\u001b[0m     ainv \u001b[38;5;241m=\u001b[39m \u001b[43m_umath_linalg\u001b[49m\u001b[38;5;241;43m.\u001b[39;49m\u001b[43minv\u001b[49m\u001b[43m(\u001b[49m\u001b[43ma\u001b[49m\u001b[43m,\u001b[49m\u001b[43m \u001b[49m\u001b[43msignature\u001b[49m\u001b[38;5;241;43m=\u001b[39;49m\u001b[43msignature\u001b[49m\u001b[43m)\u001b[49m\n\u001b[0;32m    610\u001b[0m \u001b[38;5;28;01mreturn\u001b[39;00m wrap(ainv\u001b[38;5;241m.\u001b[39mastype(result_t, copy\u001b[38;5;241m=\u001b[39m\u001b[38;5;28;01mFalse\u001b[39;00m))\n",
      "File \u001b[1;32m~\\AppData\\Local\\Packages\\PythonSoftwareFoundation.Python.3.12_qbz5n2kfra8p0\\LocalCache\\local-packages\\Python312\\site-packages\\numpy\\linalg\\_linalg.py:104\u001b[0m, in \u001b[0;36m_raise_linalgerror_singular\u001b[1;34m(err, flag)\u001b[0m\n\u001b[0;32m    103\u001b[0m \u001b[38;5;28;01mdef\u001b[39;00m \u001b[38;5;21m_raise_linalgerror_singular\u001b[39m(err, flag):\n\u001b[1;32m--> 104\u001b[0m     \u001b[38;5;28;01mraise\u001b[39;00m LinAlgError(\u001b[38;5;124m\"\u001b[39m\u001b[38;5;124mSingular matrix\u001b[39m\u001b[38;5;124m\"\u001b[39m)\n",
      "\u001b[1;31mLinAlgError\u001b[0m: Singular matrix"
     ]
    }
   ],
   "source": [
    "import numpy as np\n",
    "\n",
    "# Define the feature matrix X (including a bias term), and the price vector y\n",
    "X = np.array([\n",
    "    [1, 4, 1.5, 100],  # Bias term + features of car 1\n",
    "    [1, 6, 2.0, 150]   # Bias term + features of car 2\n",
    "])\n",
    "\n",
    "y = np.array([20, 30])  # Prices of car 1 and car 2\n",
    "\n",
    "# Compute β using the normal equation: β = (X.T * X)^(-1) * X.T * y\n",
    "X_transpose = X.T\n",
    "beta = np.linalg.inv(X_transpose @ X) @ X_transpose @ y\n",
    "\n",
    "# Define features of car 3\n",
    "car3_features = np.array([1, 8, 3.0, 200])  # Include the bias term\n",
    "\n",
    "# Predict the price of car 3\n",
    "car3_price = car3_features @ beta\n",
    "print(f\"Predicted price of car 3 :{car3_price:.6f}\")\n",
    "\n",
    "#The computation failed because the matrix X^t*X is singular (not invertible).\n",
    "\n"
   ]
  },
  {
   "cell_type": "code",
   "execution_count": 18,
   "metadata": {},
   "outputs": [
    {
     "name": "stdout",
     "output_type": "stream",
     "text": [
      "Predicted price of car 3 :40.000799\n"
     ]
    }
   ],
   "source": [
    "# Compute β using the pseudo-inverse: β = np.linalg.pinv(X) @ y\n",
    "beta = np.linalg.pinv(X) @ y #formula for pseudo inverse\n",
    "\n",
    "# Predict the price of car 3\n",
    "car3_price = car3_features @ beta\n",
    "print(f\"Predicted price of car 3 :{car3_price:.6f}\")\n",
    "\n",
    "\n"
   ]
  },
  {
   "cell_type": "code",
   "execution_count": null,
   "metadata": {},
   "outputs": [],
   "source": []
  }
 ],
 "metadata": {
  "kernelspec": {
   "display_name": "Python 3",
   "language": "python",
   "name": "python3"
  },
  "language_info": {
   "codemirror_mode": {
    "name": "ipython",
    "version": 3
   },
   "file_extension": ".py",
   "mimetype": "text/x-python",
   "name": "python",
   "nbconvert_exporter": "python",
   "pygments_lexer": "ipython3",
   "version": "3.12.8"
  }
 },
 "nbformat": 4,
 "nbformat_minor": 2
}
